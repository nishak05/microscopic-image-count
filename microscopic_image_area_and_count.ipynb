{
  "nbformat": 4,
  "nbformat_minor": 0,
  "metadata": {
    "colab": {
      "provenance": []
    },
    "kernelspec": {
      "name": "python3",
      "display_name": "Python 3"
    },
    "language_info": {
      "name": "python"
    }
  },
  "cells": [
    {
      "cell_type": "code",
      "execution_count": null,
      "metadata": {
        "id": "UARXeiouRswz"
      },
      "outputs": [],
      "source": [
        "import cv2\n",
        "import numpy as np"
      ]
    },
    {
      "cell_type": "code",
      "source": [
        "img=cv2.imread('yb.png')\n",
        "gray=cv2.cvtColor(img, cv2.COLOR_BGR2GRAY)\n",
        "g_blur=cv2.GaussianBlur(gray,(9,9),2)\n",
        "_, thresh= cv2.threshold(g_blur,127,255,cv2.THRESH_BINARY_INV)\n"
      ],
      "metadata": {
        "id": "jxwz-4AGR3AB"
      },
      "execution_count": null,
      "outputs": []
    },
    {
      "cell_type": "code",
      "source": [
        "contours, _=cv2.findContours(thresh, cv2.RETR_EXTERNAL,cv2.CHAIN_APPROX_SIMPLE)\n",
        "cv2.drawContours(img,contours,-1,(0,255,0),1)\n",
        "print(\"RADII ARE:\")\n",
        "count=0\n",
        "for cnt in contours:\n",
        "    p=cv2.arcLength(cnt, True)\n",
        "    ar=cv2.contourArea(cnt)\n",
        "    circularity=4*np.pi*(ar/(p*p))\n",
        "\n",
        "    if 0.8<circularity<1.2:\n",
        "        count+=1\n",
        "        r=np.sqrt(ar/np.pi)\n",
        "        print(format(r,\".2f\"))\n"
      ],
      "metadata": {
        "id": "0LMFB4YfR53_"
      },
      "execution_count": null,
      "outputs": []
    },
    {
      "cell_type": "code",
      "source": [
        "cv2.imshow('image',img)\n",
        "print('NUMBER OF CIRCLES:', count)\n"
      ],
      "metadata": {
        "id": "HldMZdzOR8q1"
      },
      "execution_count": null,
      "outputs": []
    },
    {
      "cell_type": "code",
      "source": [
        "cv2.waitKey(0)\n",
        "cv2.destroyAllWindows()"
      ],
      "metadata": {
        "id": "8LyZ2X4eR_5u"
      },
      "execution_count": null,
      "outputs": []
    }
  ]
}